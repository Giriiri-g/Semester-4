{
  "nbformat": 4,
  "nbformat_minor": 0,
  "metadata": {
    "colab": {
      "name": "Dataset Download.ipynb",
      "provenance": []
    },
    "kernelspec": {
      "name": "python3",
      "display_name": "Python 3"
    }
  },
  "cells": [
    {
      "cell_type": "code",
      "metadata": {
        "id": "ffANh8OA5iJI",
        "colab_type": "code",
        "colab": {}
      },
      "source": [
        ""
      ],
      "execution_count": null,
      "outputs": []
    },
    {
      "cell_type": "markdown",
      "metadata": {
        "id": "6Mg6qGVP8be-",
        "colab_type": "text"
      },
      "source": [
        "Mount the Google Drive to Google Colab"
      ]
    },
    {
      "cell_type": "code",
      "metadata": {
        "id": "txirBYxe8c9a",
        "colab_type": "code",
        "colab": {}
      },
      "source": [
        "from google.colab import drive\n",
        "drive.mount('/content/gdrive')"
      ],
      "execution_count": null,
      "outputs": []
    },
    {
      "cell_type": "code",
      "metadata": {
        "id": "jXAGXdYbDKEi",
        "colab_type": "code",
        "colab": {}
      },
      "source": [
        "import pandas as pd \n",
        "s3=pd.read_csv('gdrive/My Drive/ur folder/urfile.ext')"
      ],
      "execution_count": null,
      "outputs": []
    },
    {
      "cell_type": "markdown",
      "metadata": {
        "id": "kDdcDj578odV",
        "colab_type": "text"
      },
      "source": [
        "Download the dataset directly to Google Drive via Google Colab"
      ]
    },
    {
      "cell_type": "markdown",
      "metadata": {
        "id": "FVSkCT0k8tww",
        "colab_type": "text"
      },
      "source": [
        "Downloading Kaggle datasets via Kaggle API\n",
        "Step 1 — Get the API key from your account\n",
        "Visit www.kaggle.com ⇨ login ⇨ My Account ⇨ Create New API Token\n",
        "The “kaggle.json” file will be auto downloadeD\n",
        "\n"
      ]
    },
    {
      "cell_type": "markdown",
      "metadata": {
        "id": "l-LhVWuG9B2m",
        "colab_type": "text"
      },
      "source": [
        "Step 2 — Upload the kaggle.json file"
      ]
    },
    {
      "cell_type": "code",
      "metadata": {
        "id": "G091cYOT8ggB",
        "colab_type": "code",
        "colab": {}
      },
      "source": [
        "from google.colab import files\n",
        "files.upload()  #this will prompt you to upload the kaggle.json"
      ],
      "execution_count": null,
      "outputs": []
    },
    {
      "cell_type": "code",
      "metadata": {
        "id": "8GbFjww59ZTr",
        "colab_type": "code",
        "colab": {}
      },
      "source": [
        "!pip install -q kaggle\n",
        "!mkdir -p ~/.kaggle\n",
        "!cp kaggle.json ~/.kaggle/\n",
        "!ls ~/.kaggle\n",
        "!chmod 600 /root/.kaggle/kaggle.json  # set permission"
      ],
      "execution_count": null,
      "outputs": []
    },
    {
      "cell_type": "markdown",
      "metadata": {
        "id": "A8E9oNmH9jUy",
        "colab_type": "text"
      },
      "source": [
        "Step 3 — Download the required dataset\n",
        "\n"
      ]
    },
    {
      "cell_type": "code",
      "metadata": {
        "id": "ibbgzzaj9nph",
        "colab_type": "code",
        "colab": {}
      },
      "source": [
        "#!kaggle competitions download -c ‘name_of_competition’ -p “target_colab_dir”\n",
        "!kaggle competitions download -c histopathologic-cancer-detection -p /content/gdrive/My\\ Drive/kaggle/cancer"
      ],
      "execution_count": null,
      "outputs": []
    },
    {
      "cell_type": "code",
      "metadata": {
        "id": "QyMFKyvi9_OL",
        "colab_type": "code",
        "colab": {}
      },
      "source": [
        "#!unzip -q file[.zip] -d [exdir]\n",
        "!unzip -q train.zip -d train/  #unzip data in train/\n",
        "!unzip -q test.zip -d test/  #unzip data in test/"
      ],
      "execution_count": null,
      "outputs": []
    },
    {
      "cell_type": "markdown",
      "metadata": {
        "id": "xVXZvUTv-MmI",
        "colab_type": "text"
      },
      "source": [
        "Download Dataset from competition website which username and password is required while requesting to download"
      ]
    },
    {
      "cell_type": "code",
      "metadata": {
        "id": "iJpBrb6h-N8l",
        "colab_type": "code",
        "colab": {}
      },
      "source": [
        "!wget --user=your_username --password=your_password http://cdn1.i3s.up.pt/digitalpathology/ICIAR2018_BACH_Challenge.zip"
      ],
      "execution_count": null,
      "outputs": []
    },
    {
      "cell_type": "markdown",
      "metadata": {
        "id": "MkWUf0XD-UbD",
        "colab_type": "text"
      },
      "source": [
        ""
      ]
    }
  ]
}